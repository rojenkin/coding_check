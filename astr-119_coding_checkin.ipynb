{
 "cells": [
  {
   "cell_type": "markdown",
   "metadata": {},
   "source": [
    "## Coding check-in\n",
    "\n",
    "First import numpy and matplotlib as usual"
   ]
  },
  {
   "cell_type": "code",
   "execution_count": 1,
   "metadata": {},
   "outputs": [],
   "source": [
    "import numpy as np\n",
    "import matplotlib.pyplot as plt"
   ]
  },
  {
   "cell_type": "markdown",
   "metadata": {},
   "source": [
    "Defining main function that sets i=0, and a float x=119.0. \n",
    "\n",
    "Then, using a for loop, iterate i from 0 to 119 having evens (zero included) of i == 3+x and odds of i == x-5"
   ]
  },
  {
   "cell_type": "code",
   "execution_count": 3,
   "metadata": {},
   "outputs": [
    {
     "name": "stdout",
     "output_type": "stream",
     "text": [
      "-1.00e+00\n"
     ]
    }
   ],
   "source": [
    "def main():\n",
    "    \n",
    "    i = 0\n",
    "    x = 119.0\n",
    "    \n",
    "    #begin for loop\n",
    "    for i in range(120):\n",
    "        \n",
    "        #for even i, including zero\n",
    "        if((i%2)==0):\n",
    "            \n",
    "            # add three to x\n",
    "            x += 3.\n",
    "        \n",
    "        #odd i values\n",
    "        else:\n",
    "            \n",
    "            # subtract 5 from x\n",
    "            x -= 5.\n",
    "            \n",
    "    #make a string of x with sci. note. and 2 places after the decimal\n",
    "    s = \"%3.2e\" % x\n",
    "    \n",
    "    #finally, print value of string (value of x)\n",
    "    print(s)\n",
    "    \n",
    "#now to actually run the main\n",
    "if __name__ == \"__main__\":\n",
    "    main()"
   ]
  },
  {
   "cell_type": "code",
   "execution_count": null,
   "metadata": {},
   "outputs": [],
   "source": []
  }
 ],
 "metadata": {
  "kernelspec": {
   "display_name": "Python 3",
   "language": "python",
   "name": "python3"
  },
  "language_info": {
   "codemirror_mode": {
    "name": "ipython",
    "version": 3
   },
   "file_extension": ".py",
   "mimetype": "text/x-python",
   "name": "python",
   "nbconvert_exporter": "python",
   "pygments_lexer": "ipython3",
   "version": "3.7.1"
  }
 },
 "nbformat": 4,
 "nbformat_minor": 2
}
